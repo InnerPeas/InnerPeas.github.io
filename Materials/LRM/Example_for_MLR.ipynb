{
 "cells": [
  {
   "cell_type": "code",
   "execution_count": null,
   "metadata": {
    "colab": {
     "base_uri": "https://localhost:8080/"
    },
    "id": "tLPFxZ4M1WJj",
    "outputId": "fe36c539-9d7e-4264-8df3-d53a5ef78541"
   },
   "outputs": [
    {
     "name": "stderr",
     "output_type": "stream",
     "text": [
      "/usr/local/lib/python3.7/dist-packages/statsmodels/tools/_testing.py:19: FutureWarning: pandas.util.testing is deprecated. Use the functions in the public API at pandas.testing instead.\n",
      "  import pandas.util.testing as tm\n"
     ]
    }
   ],
   "source": [
    "import numpy as np\n",
    "import pandas\n",
    "import statsmodels.api as sm\n",
    "import statsmodels\n",
    "import matplotlib.pyplot as plt\n",
    "from scipy.stats import t\n",
    "import scipy.stats as stats"
   ]
  },
  {
   "cell_type": "markdown",
   "metadata": {
    "id": "3LLfDk-_D-Vx"
   },
   "source": [
    "This time let us focus on a generated toy dataset. After all at the current stage your instructor cannot scare away any more students (in theory)"
   ]
  },
  {
   "cell_type": "code",
   "execution_count": null,
   "metadata": {
    "colab": {
     "base_uri": "https://localhost:8080/",
     "height": 204
    },
    "id": "l7UbYvpC1j36",
    "outputId": "e6ab3fb0-1f68-4713-c929-f2a6f893d1dd"
   },
   "outputs": [
    {
     "data": {
      "text/html": [
       "<div>\n",
       "<style scoped>\n",
       "    .dataframe tbody tr th:only-of-type {\n",
       "        vertical-align: middle;\n",
       "    }\n",
       "\n",
       "    .dataframe tbody tr th {\n",
       "        vertical-align: top;\n",
       "    }\n",
       "\n",
       "    .dataframe thead th {\n",
       "        text-align: right;\n",
       "    }\n",
       "</style>\n",
       "<table border=\"1\" class=\"dataframe\">\n",
       "  <thead>\n",
       "    <tr style=\"text-align: right;\">\n",
       "      <th></th>\n",
       "      <th>predictor 1</th>\n",
       "      <th>predictor 2</th>\n",
       "      <th>response</th>\n",
       "    </tr>\n",
       "  </thead>\n",
       "  <tbody>\n",
       "    <tr>\n",
       "      <th>0</th>\n",
       "      <td>-0.484444</td>\n",
       "      <td>-5.000000</td>\n",
       "      <td>-23.972296</td>\n",
       "    </tr>\n",
       "    <tr>\n",
       "      <th>1</th>\n",
       "      <td>-2.541270</td>\n",
       "      <td>-4.949749</td>\n",
       "      <td>-32.792703</td>\n",
       "    </tr>\n",
       "    <tr>\n",
       "      <th>2</th>\n",
       "      <td>0.507439</td>\n",
       "      <td>-4.899497</td>\n",
       "      <td>-19.620684</td>\n",
       "    </tr>\n",
       "    <tr>\n",
       "      <th>3</th>\n",
       "      <td>0.255458</td>\n",
       "      <td>-4.849246</td>\n",
       "      <td>-18.673486</td>\n",
       "    </tr>\n",
       "    <tr>\n",
       "      <th>4</th>\n",
       "      <td>1.986080</td>\n",
       "      <td>-4.798995</td>\n",
       "      <td>-13.947027</td>\n",
       "    </tr>\n",
       "  </tbody>\n",
       "</table>\n",
       "</div>"
      ],
      "text/plain": [
       "   predictor 1  predictor 2   response\n",
       "0    -0.484444    -5.000000 -23.972296\n",
       "1    -2.541270    -4.949749 -32.792703\n",
       "2     0.507439    -4.899497 -19.620684\n",
       "3     0.255458    -4.849246 -18.673486\n",
       "4     1.986080    -4.798995 -13.947027"
      ]
     },
     "execution_count": 2,
     "metadata": {},
     "output_type": "execute_result"
    }
   ],
   "source": [
    "x1 = np.random.normal(size=200) \n",
    "x2 = np.linspace(-5, 5, 200)\n",
    "y = 3+ 4*x1+5*x2 + np.random.normal(size=200)\n",
    "data = pandas.DataFrame({'predictor 1': x1, 'predictor 2': x2, 'response': y})\n",
    "data.head()"
   ]
  },
  {
   "cell_type": "code",
   "execution_count": null,
   "metadata": {
    "colab": {
     "base_uri": "https://localhost:8080/",
     "height": 298
    },
    "id": "BZaro97RsVTF",
    "outputId": "c5d772fc-b41b-4267-ffb3-d6229737d548"
   },
   "outputs": [
    {
     "data": {
      "text/plain": [
       "Text(0.5, 1.0, 'y v.s. x1')"
      ]
     },
     "execution_count": 3,
     "metadata": {},
     "output_type": "execute_result"
    },
    {
     "data": {
      "image/png": "[encoded data removed]",
      "text/plain": [
       "<Figure size 432x288 with 1 Axes>"
      ]
     },
     "metadata": {
      "needs_background": "light"
     },
     "output_type": "display_data"
    }
   ],
   "source": [
    "# scatter plot\n",
    "plt.scatter(x1,y)\n",
    "plt.title('y v.s. x1')"
   ]
  },
  {
   "cell_type": "code",
   "execution_count": null,
   "metadata": {
    "colab": {
     "base_uri": "https://localhost:8080/",
     "height": 298
    },
    "id": "3Nti5y74KBW8",
    "outputId": "5e894da7-8956-4daf-d128-894b1147b720"
   },
   "outputs": [
    {
     "data": {
      "text/plain": [
       "Text(0.5, 1.0, 'y v.s. x2')"
      ]
     },
     "execution_count": 4,
     "metadata": {},
     "output_type": "execute_result"
    },
    {
     "data": {
      "image/png": "[encoded data removed]",
      "text/plain": [
       "<Figure size 432x288 with 1 Axes>"
      ]
     },
     "metadata": {
      "needs_background": "light"
     },
     "output_type": "display_data"
    }
   ],
   "source": [
    "# scatter plot again\n",
    "plt.scatter(x2,y)\n",
    "plt.title('y v.s. x2')"
   ]
  },
  {
   "cell_type": "markdown",
   "metadata": {
    "id": "C4QPOVUlK8iY"
   },
   "source": [
    "Now create your own design matrix"
   ]
  },
  {
   "cell_type": "code",
   "execution_count": null,
   "metadata": {
    "colab": {
     "base_uri": "https://localhost:8080/"
    },
    "id": "l4GfWLjodmV9",
    "outputId": "79ab4fe2-f7ef-42dd-c876-f565ef089e17"
   },
   "outputs": [
    {
     "name": "stdout",
     "output_type": "stream",
     "text": [
      "(200, 2)\n",
      "(200, 3)\n"
     ]
    }
   ],
   "source": [
    "x = data[['predictor 1','predictor 2']]\n",
    "print(x.shape)\n",
    "x = statsmodels.tools.tools.add_constant(x)\n",
    "print(x.shape)"
   ]
  },
  {
   "cell_type": "markdown",
   "metadata": {
    "id": "Ynhe8VSaPezq"
   },
   "source": [
    "Now we fit in the multivariate linear regression model"
   ]
  },
  {
   "cell_type": "code",
   "execution_count": null,
   "metadata": {
    "colab": {
     "base_uri": "https://localhost:8080/"
    },
    "id": "WzkXUCN3PjYo",
    "outputId": "29bc9627-4b82-4e7c-a89f-d4002c3aace5"
   },
   "outputs": [
    {
     "name": "stdout",
     "output_type": "stream",
     "text": [
      "                            OLS Regression Results                            \n",
      "==============================================================================\n",
      "Dep. Variable:                      y   R-squared:                       0.996\n",
      "Model:                            OLS   Adj. R-squared:                  0.995\n",
      "Method:                 Least Squares   F-statistic:                 2.192e+04\n",
      "Date:                Wed, 13 Oct 2021   Prob (F-statistic):          3.94e-232\n",
      "Time:                        17:16:26   Log-Likelihood:                -284.66\n",
      "No. Observations:                 200   AIC:                             575.3\n",
      "Df Residuals:                     197   BIC:                             585.2\n",
      "Df Model:                           2                                         \n",
      "Covariance Type:            nonrobust                                         \n",
      "===============================================================================\n",
      "                  coef    std err          t      P>|t|      [0.025      0.975]\n",
      "-------------------------------------------------------------------------------\n",
      "const           2.9991      0.072     41.813      0.000       2.858       3.141\n",
      "predictor 1     4.0466      0.070     58.211      0.000       3.909       4.184\n",
      "predictor 2     4.9552      0.025    200.902      0.000       4.907       5.004\n",
      "==============================================================================\n",
      "Omnibus:                        1.520   Durbin-Watson:                   1.852\n",
      "Prob(Omnibus):                  0.468   Jarque-Bera (JB):                1.241\n",
      "Skew:                           0.184   Prob(JB):                        0.538\n",
      "Kurtosis:                       3.118   Cond. No.                         2.97\n",
      "==============================================================================\n",
      "\n",
      "Warnings:\n",
      "[1] Standard Errors assume that the covariance matrix of the errors is correctly specified.\n"
     ]
    }
   ],
   "source": [
    "model = sm.OLS(y, x).fit() \n",
    "print(model.summary())"
   ]
  },
  {
   "cell_type": "markdown",
   "metadata": {
    "id": "r--cV5o-IJl7"
   },
   "source": [
    "#Difference between $Q = \\sum_{i=1}^n (y_i - x_i^\\top \\beta)^2$ and $RSS = \\sum_{i=1}^n(y_i - x_i^\\top b)^2$\n",
    "\n",
    "Generally speaking, we do not know $\\beta$. Nevertheless, we have \n",
    "$$\n",
    "RSS = \\sum_{i=1}^n(y_i - x_i^\\top b)^2 \\leq Q = \\sum_{i=1}^n (y_i - x_i^\\top \\beta)^2. \n",
    "$$\n",
    "\n",
    "In our model we know the ground truth of $\\beta$ (because that's how we generated the data). But even that, $RSS \\leq Q$.\n"
   ]
  },
  {
   "cell_type": "code",
   "execution_count": null,
   "metadata": {
    "colab": {
     "base_uri": "https://localhost:8080/",
     "height": 284
    },
    "id": "DpVdUO4rQrNT",
    "outputId": "0c4c4ca0-c28b-43c9-bbf4-055364296130"
   },
   "outputs": [
    {
     "name": "stdout",
     "output_type": "stream",
     "text": [
      "Q= 205.58057740608382 RSS= 201.74606388795576\n"
     ]
    },
    {
     "data": {
      "image/png": "[encoded data removed]",
      "text/plain": [
       "<Figure size 432x288 with 1 Axes>"
      ]
     },
     "metadata": {
      "needs_background": "light"
     },
     "output_type": "display_data"
    }
   ],
   "source": [
    "# Check \n",
    "eps = (y-3-4*x1-5*x2)\n",
    "Q   = np.sum(eps**2)\n",
    "# print(model.params)\n",
    "e   = y - model.predict(x)\n",
    "RSS = np.sum(e**2)\n",
    "plt.scatter(e,eps)\n",
    "print(\"Q=\",Q,\"RSS=\",RSS)"
   ]
  },
  {
   "cell_type": "markdown",
   "metadata": {
    "id": "_9ORLWw0Yq8U"
   },
   "source": [
    "#Construct a double-sided confidence interval with significance level $\\alpha$\n",
    "\n",
    "For $\\alpha = 95\\%$, we can directly read from the table that the confidence interval for $\\beta_1$ is $[3.909,4.184]$.\n",
    "\n",
    "\n",
    "For $\\alpha = 99\\%$, we have to somehow created by hand:$[3.865, 4.229]$"
   ]
  },
  {
   "cell_type": "code",
   "execution_count": null,
   "metadata": {
    "colab": {
     "base_uri": "https://localhost:8080/"
    },
    "id": "6_etaj-vV9Mk",
    "outputId": "e90cef91-a610-463c-f668-57a84b023c04"
   },
   "outputs": [
    {
     "name": "stdout",
     "output_type": "stream",
     "text": [
      "3.8645289050837324\n",
      "4.228671094916267\n"
     ]
    }
   ],
   "source": [
    "# # 99% CI\n",
    "# print(t.ppf(0.995, 197))\n",
    "# print(stats.norm.ppf(0.995))\n",
    "# calculation of lower bounds for CI\n",
    "print(4.0466-0.070*2.6010156416609598)\n",
    "# calculation of upper bounds for CI\n",
    "print(4.0466+0.070*2.6010156416609598)\n",
    "\n",
    "# 95% CI\n"
   ]
  },
  {
   "cell_type": "markdown",
   "metadata": {
    "id": "AaHlT9w4uTSp"
   },
   "source": [
    "#Construct a single-sided confidence interval with significance level $\\alpha$\n",
    "\n",
    "$\\alpha =99\\%$, single-sided CI:"
   ]
  },
  {
   "cell_type": "code",
   "execution_count": null,
   "metadata": {
    "colab": {
     "base_uri": "https://localhost:8080/"
    },
    "id": "Q42peJ8WujVF",
    "outputId": "7c2e1355-93ac-42e2-9e16-efeba823893c"
   },
   "outputs": [
    {
     "name": "stdout",
     "output_type": "stream",
     "text": [
      "2.3454254493836264\n",
      "3.882420218543146\n"
     ]
    }
   ],
   "source": [
    "print(t.ppf(0.99, 197))\n",
    "print(4.0466-0.070*2.3454254493836264)"
   ]
  },
  {
   "cell_type": "markdown",
   "metadata": {
    "id": "jk_DF1LDhD1R"
   },
   "source": [
    "#Hyposthesis testing for $\\beta_1 = 0$\n",
    "\n",
    "Suppose you didn't see how I generated the data. \n",
    "The first thing we are interested in is to see if $\\beta_1 =0$, which means you should write down the hypothesis for testing:\n",
    "$$\n",
    "H_0: \\beta_1 =0 \\qquad \\mathrm{v.s.}\\qquad  H_1: otherwise\n",
    "$$\n",
    "\n",
    "We can do it with Wald test. The associated $T$-statistics is \n",
    "$$\n",
    "T =  \\frac{\\widehat{\\beta}_1}{se({\\widehat\\beta_1})}\n",
    "$$\n",
    "\n",
    "\n",
    "\n"
   ]
  },
  {
   "cell_type": "code",
   "execution_count": null,
   "metadata": {
    "colab": {
     "base_uri": "https://localhost:8080/"
    },
    "id": "EDYa7Xs8hZ1N",
    "outputId": "da2e0d84-7444-42cd-efd4-7e0405416d38"
   },
   "outputs": [
    {
     "name": "stdout",
     "output_type": "stream",
     "text": [
      "57.80857142857142\n"
     ]
    }
   ],
   "source": [
    "print(4.0466/0.070)"
   ]
  },
  {
   "cell_type": "markdown",
   "metadata": {
    "id": "2baweu8Xhbmt"
   },
   "source": [
    "#Hyposthesis testing for $\\beta_1 = 4$\n",
    "\n",
    "Now you want to see if $\\beta_1 =4$, which means you should write down the hypothesis for testing:\n",
    "$$\n",
    "H_0: \\beta_1 =4 \\qquad \\mathrm{v.s.}\\qquad  H_1: otherwise\n",
    "$$\n",
    "\n",
    "We can do it with Wald test.\n",
    "\n",
    " The associated $T$-statistics is \n",
    "$$\n",
    "T =  \\frac{\\widehat{\\beta}_1-4}{se({\\widehat\\beta_1})}\n",
    "$$\n",
    "\n",
    "\n"
   ]
  },
  {
   "cell_type": "code",
   "execution_count": null,
   "metadata": {
    "colab": {
     "base_uri": "https://localhost:8080/"
    },
    "id": "94n5TMtyho6c",
    "outputId": "bf802c06-3d9f-4e3b-bcdd-8b3813e6f72e"
   },
   "outputs": [
    {
     "name": "stdout",
     "output_type": "stream",
     "text": [
      "0.6657142857142822\n"
     ]
    }
   ],
   "source": [
    "print((4.0466-4)/0.070)"
   ]
  },
  {
   "cell_type": "markdown",
   "metadata": {
    "id": "-riCoIsxxchv"
   },
   "source": [
    "#Hyposthesis testing for $\\beta_1 \\geq 3$\n",
    "\n",
    "Suppose you didn't see how I generated the data. \n",
    "The first thing we are interested in is to see if $\\beta_1$ is larger than 3, which means you should write down the hypothesis for testing:\n",
    "$$\n",
    "H_0: \\beta_1 \\geq 3 \\qquad \\mathrm{v.s.}\\qquad  H_1: otherwise\n",
    "$$\n",
    "\n",
    "We can do it with Wald test. The associated $T$-statistics is \n",
    "$$\n",
    "T =  \\frac{\\widehat{\\beta}_1-3}{se({\\widehat\\beta_1})}\n",
    "$$\n",
    "\n",
    "\n",
    "\n"
   ]
  },
  {
   "cell_type": "code",
   "execution_count": 1,
   "metadata": {
    "colab": {
     "base_uri": "https://localhost:8080/"
    },
    "id": "lfUIh4qbyKwL",
    "outputId": "4370909a-935b-4a68-8508-a5ab97550647"
   },
   "outputs": [
    {
     "name": "stdout",
     "output_type": "stream",
     "text": [
      "15.142857142857135\n"
     ]
    }
   ],
   "source": [
    "print((4.06-3)/0.07)"
   ]
  },
  {
   "cell_type": "markdown",
   "metadata": {
    "id": "ZkUm-lP6ya6y"
   },
   "source": [
    "#Hyposthesis testing for $\\beta_1 \\leq 3$\n",
    "\n",
    "Suppose you didn't see how I generated the data. \n",
    "The first thing we are interested in is to see if $\\beta_1$ is larger than 3, which means you should write down the hypothesis for testing:\n",
    "$$\n",
    "H_0: \\beta_1 \\leq 3 \\qquad \\mathrm{v.s.}\\qquad  H_1: otherwise\n",
    "$$\n",
    "\n",
    "We can do it with Wald test. The associated $T$-statistics is \n",
    "$$\n",
    "T =  \\frac{\\widehat{\\beta}_1-3}{se({\\widehat\\beta_1})}\n",
    "$$\n",
    "\n",
    "\n",
    "\n"
   ]
  },
  {
   "cell_type": "code",
   "execution_count": null,
   "metadata": {
    "colab": {
     "base_uri": "https://localhost:8080/"
    },
    "id": "llpLgyAsyadG",
    "outputId": "25fc45de-86c5-47bd-9ff5-ca2a91a47b2d"
   },
   "outputs": [
    {
     "name": "stdout",
     "output_type": "stream",
     "text": [
      "15.142857142857135\n"
     ]
    }
   ],
   "source": [
    "print((4.06-3)/0.07)"
   ]
  },
  {
   "cell_type": "markdown",
   "metadata": {
    "id": "NY1ALw94X3AV"
   },
   "source": [
    "#Hyposthesis testing for $\\beta_1 = \\beta_2=0$\n",
    "\n",
    "Suppose you didn't see how I generated the data. \n",
    "The first thing we are interested in is to see if $\\beta_1 =\\beta_2=0$, which means you should write down the hypothesis for testing:\n",
    "$$\n",
    "H_0: \\beta_1 =\\beta_2=0 \\qquad \\mathrm{v.s.}\\qquad  H_1: otherwise\n",
    "$$\n",
    "\n",
    "How shall we do it?\n",
    "\n",
    "1. Wald test. \n",
    "\n",
    "2. F test.\n"
   ]
  },
  {
   "cell_type": "code",
   "execution_count": null,
   "metadata": {
    "id": "crCFvekLce_C"
   },
   "outputs": [],
   "source": [
    "# Application of Bonferroni inequality to statistics"
   ]
  },
  {
   "cell_type": "markdown",
   "metadata": {
    "id": "LAkEGvAGieRP"
   },
   "source": [
    "Suppose we have $g$ different confidence intervals, each with confidence level $1 - \\alpha$.  \n",
    "\n",
    "Let $$A_i =  \\left\\{ i \\text{th interval fails to cover the true value} \\right\\} $$\n",
    "\n",
    "The simultaneous confidence level is \\\\\n",
    "$$\n",
    "P( \\text{all intervals do cover} ) = P(A_1 ' \\cap A_2 ' \\cap \\cdots \\cap A_g ' )$$\n",
    "so\n",
    "$$ P( \\text{all intervals cover} )   \\geq 1 - P(A_1') - P(A_2') - \\cdots - P(A_g') $$ or \n",
    "$$ P( \\text{all intervals cover} ) \\geq  1 - \\alpha - \\alpha - \\cdots - \\alpha = 1 - g \\alpha $$\n",
    "\n",
    "That is, individual $1 - \\alpha$ confidence intervals give us a simultaneous confidence level \n",
    "of at least $1 - g \\alpha$.  \n",
    "\n",
    "So what if we want simultaneous $1 - \\alpha$ confidence?\n",
    "\n",
    "Make sure each interval has an individual confidence level of $1 - \\alpha / g$! --> Bonferroni method!\n"
   ]
  },
  {
   "cell_type": "markdown",
   "metadata": {
    "id": "EMaqR-H7ipMZ"
   },
   "source": [
    "#Wald test\n",
    "\n",
    "$$\n",
    "H_0: \\beta_1 =\\beta_2=0 \\qquad \\mathrm{v.s.}\\qquad  H_1: \\mathrm{otherwise}\n",
    "$$"
   ]
  },
  {
   "cell_type": "code",
   "execution_count": null,
   "metadata": {
    "id": "GqfdrWmolM40"
   },
   "outputs": [],
   "source": [
    "# 90% confidence set for (beta_1, beta_2) = 95% CI for beta_1 and 95% CI for beta_2\n"
   ]
  },
  {
   "cell_type": "markdown",
   "metadata": {
    "id": "Lgxesow6kT59"
   },
   "source": [
    "#F test\n",
    "\n",
    "$$\n",
    "H_0: \\beta_1 =\\beta_2=\\cdots = \\beta_{p-1}=0 \\qquad \\mathrm{v.s.}\\qquad  H_1: \\mathrm{otherwise}\n",
    "$$\n",
    "\n",
    "For a multivariate linear regression model with design matrix as $n\\times p$, then\n",
    "\n",
    "$$\n",
    "SS_{\\mathrm{total}} = SS_{\\mathrm{reg}} + RSS, \\qquad RSS \\perp SS_{\\mathrm{reg}}. \n",
    "$$\n",
    "\n",
    "1. the degree of freedom for RSS is $n-p$\n",
    "2. the degree of freedom for $SS_{\\mathrm{total}} = \\sum_{i=1}^n (Y_i - \\bar{Y})^2$ is $n-1$\n",
    "3. the degree of freedom for $SS_{\\mathrm{reg}} = \\sum_{i=1}^n(\\widehat{Y}_i - \\bar{Y})^2$ is $n-1 - (n-p)=p-1$. \n",
    "\n",
    "Test statistics: \n",
    "$$\n",
    "F= \\frac{SS_{reg}/(p-1)}{RSS/(n-p)} \n",
    "$$"
   ]
  },
  {
   "cell_type": "code",
   "execution_count": null,
   "metadata": {
    "colab": {
     "base_uri": "https://localhost:8080/"
    },
    "id": "Yto_f6wxlMOj",
    "outputId": "fea69b23-7ba7-4b57-9919-7820668e9a68"
   },
   "outputs": [
    {
     "name": "stdout",
     "output_type": "stream",
     "text": [
      "21916.553916250654\n"
     ]
    }
   ],
   "source": [
    "SS_reg = np.sum((y-np.mean(y))**2)-RSS\n",
    "print((SS_reg/2)/(RSS/197))"
   ]
  },
  {
   "cell_type": "code",
   "execution_count": null,
   "metadata": {
    "id": "GKV5I8hFldsv"
   },
   "outputs": [],
   "source": []
  }
 ],
 "metadata": {
  "colab": {
   "collapsed_sections": [],
   "name": "Example_for_MLR",
   "provenance": []
  },
  "kernelspec": {
   "display_name": "Python 3",
   "language": "python",
   "name": "python3"
  },
  "language_info": {
   "codemirror_mode": {
    "name": "ipython",
    "version": 3
   },
   "file_extension": ".py",
   "mimetype": "text/x-python",
   "name": "python",
   "nbconvert_exporter": "python",
   "pygments_lexer": "ipython3",
   "version": "3.8.5"
  }
 },
 "nbformat": 4,
 "nbformat_minor": 1
}
