{
  "nbformat": 4,
  "nbformat_minor": 0,
  "metadata": {
    "colab": {
      "name": "Example for SLR",
      "provenance": [],
      "collapsed_sections": []
    },
    "kernelspec": {
      "name": "python3",
      "display_name": "Python 3"
    },
    "accelerator": "GPU"
  },
  "cells": [
    {
      "cell_type": "code",
      "metadata": {
        "id": "tLPFxZ4M1WJj",
        "colab": {
          "base_uri": "https://localhost:8080/"
        },
        "outputId": "6f16d509-6f82-4996-ebac-c5a829277dc4"
      },
      "source": [
        "import numpy as np\n",
        "import pandas\n",
        "import statsmodels.api as sm\n",
        "import statsmodels\n",
        "import matplotlib.pyplot as plt"
      ],
      "execution_count": 1,
      "outputs": [
        {
          "output_type": "stream",
          "name": "stderr",
          "text": [
            "/usr/local/lib/python3.7/dist-packages/statsmodels/tools/_testing.py:19: FutureWarning: pandas.util.testing is deprecated. Use the functions in the public API at pandas.testing instead.\n",
            "  import pandas.util.testing as tm\n"
          ]
        }
      ]
    },
    {
      "cell_type": "markdown",
      "metadata": {
        "id": "CHBSkUG5KoUQ"
      },
      "source": [
        "In class we have been talking about the theoretical aspect of simple linear regression models. Today it's time to see how things work in reality. \n",
        "\n",
        "The following data is the number of enrollment students ($y$) vs days started the teaching ($x$). Your job is to help figure out the number of days it takes for your insturctor to scare away all your students. \n"
      ]
    },
    {
      "cell_type": "code",
      "metadata": {
        "colab": {
          "base_uri": "https://localhost:8080/",
          "height": 204
        },
        "id": "VKi60WePMsY3",
        "outputId": "53260ee8-c1c3-4d07-81cb-39166a8e8b2f"
      },
      "source": [
        "x = np.arange(7)+1\n",
        "y = [84,94,100,70, 47, 42, 39]\n",
        "data = pandas.DataFrame({'predictor': x, 'response': y})\n",
        "data.head()"
      ],
      "execution_count": 2,
      "outputs": [
        {
          "output_type": "execute_result",
          "data": {
            "text/html": [
              "<div>\n",
              "<style scoped>\n",
              "    .dataframe tbody tr th:only-of-type {\n",
              "        vertical-align: middle;\n",
              "    }\n",
              "\n",
              "    .dataframe tbody tr th {\n",
              "        vertical-align: top;\n",
              "    }\n",
              "\n",
              "    .dataframe thead th {\n",
              "        text-align: right;\n",
              "    }\n",
              "</style>\n",
              "<table border=\"1\" class=\"dataframe\">\n",
              "  <thead>\n",
              "    <tr style=\"text-align: right;\">\n",
              "      <th></th>\n",
              "      <th>predictor</th>\n",
              "      <th>response</th>\n",
              "    </tr>\n",
              "  </thead>\n",
              "  <tbody>\n",
              "    <tr>\n",
              "      <th>0</th>\n",
              "      <td>1</td>\n",
              "      <td>84</td>\n",
              "    </tr>\n",
              "    <tr>\n",
              "      <th>1</th>\n",
              "      <td>2</td>\n",
              "      <td>94</td>\n",
              "    </tr>\n",
              "    <tr>\n",
              "      <th>2</th>\n",
              "      <td>3</td>\n",
              "      <td>100</td>\n",
              "    </tr>\n",
              "    <tr>\n",
              "      <th>3</th>\n",
              "      <td>4</td>\n",
              "      <td>70</td>\n",
              "    </tr>\n",
              "    <tr>\n",
              "      <th>4</th>\n",
              "      <td>5</td>\n",
              "      <td>47</td>\n",
              "    </tr>\n",
              "  </tbody>\n",
              "</table>\n",
              "</div>"
            ],
            "text/plain": [
              "   predictor  response\n",
              "0          1        84\n",
              "1          2        94\n",
              "2          3       100\n",
              "3          4        70\n",
              "4          5        47"
            ]
          },
          "metadata": {},
          "execution_count": 2
        }
      ]
    },
    {
      "cell_type": "code",
      "metadata": {
        "colab": {
          "base_uri": "https://localhost:8080/",
          "height": 282
        },
        "id": "IS0ZvuuYUWzq",
        "outputId": "0a91d28d-f859-4366-c993-f391998805a0"
      },
      "source": [
        "# scatter plot\n",
        "plt.scatter(x, y,color='red')"
      ],
      "execution_count": 3,
      "outputs": [
        {
          "output_type": "execute_result",
          "data": {
            "text/plain": [
              "<matplotlib.collections.PathCollection at 0x7fa3dd24cb10>"
            ]
          },
          "metadata": {},
          "execution_count": 3
        },
        {
          "output_type": "display_data",
          "data": {
            "image/png": "[encoded data removed]",
            "text/plain": [
              "<Figure size 432x288 with 1 Axes>"
            ]
          },
          "metadata": {
            "needs_background": "light"
          }
        }
      ]
    },
    {
      "cell_type": "markdown",
      "metadata": {
        "id": "szAE415dUbjk"
      },
      "source": [
        "Now it's time to fit a linear regression model!\n",
        "\n",
        "statsmodels.api.OLS\n",
        "\n",
        "https://www.statsmodels.org/stable/generated/statsmodels.regression.linear_model.OLS.html"
      ]
    },
    {
      "cell_type": "code",
      "metadata": {
        "id": "l7UbYvpC1j36",
        "colab": {
          "base_uri": "https://localhost:8080/"
        },
        "outputId": "64649b1c-52d9-4a0c-c370-4fc4a685667f"
      },
      "source": [
        "model = sm.OLS(y, x).fit() \n",
        "print(model.summary())"
      ],
      "execution_count": 4,
      "outputs": [
        {
          "output_type": "stream",
          "name": "stdout",
          "text": [
            "                                 OLS Regression Results                                \n",
            "=======================================================================================\n",
            "Dep. Variable:                      y   R-squared (uncentered):                   0.512\n",
            "Model:                            OLS   Adj. R-squared (uncentered):              0.430\n",
            "Method:                 Least Squares   F-statistic:                              6.283\n",
            "Date:                Wed, 06 Oct 2021   Prob (F-statistic):                      0.0461\n",
            "Time:                        20:36:49   Log-Likelihood:                         -37.361\n",
            "No. Observations:                   7   AIC:                                      76.72\n",
            "Df Residuals:                       6   BIC:                                      76.67\n",
            "Df Model:                           1                                                  \n",
            "Covariance Type:            nonrobust                                                  \n",
            "==============================================================================\n",
            "                 coef    std err          t      P>|t|      [0.025      0.975]\n",
            "------------------------------------------------------------------------------\n",
            "x1            11.5143      4.594      2.507      0.046       0.274      22.754\n",
            "==============================================================================\n",
            "Omnibus:                          nan   Durbin-Watson:                   0.194\n",
            "Prob(Omnibus):                    nan   Jarque-Bera (JB):                0.833\n",
            "Skew:                          -0.122   Prob(JB):                        0.659\n",
            "Kurtosis:                       1.328   Cond. No.                         1.00\n",
            "==============================================================================\n",
            "\n",
            "Warnings:\n",
            "[1] Standard Errors assume that the covariance matrix of the errors is correctly specified.\n"
          ]
        },
        {
          "output_type": "stream",
          "name": "stderr",
          "text": [
            "/usr/local/lib/python3.7/dist-packages/statsmodels/stats/stattools.py:71: ValueWarning: omni_normtest is not valid with less than 8 observations; 7 samples were given.\n",
            "  \"samples were given.\" % int(n), ValueWarning)\n"
          ]
        }
      ]
    },
    {
      "cell_type": "markdown",
      "metadata": {
        "id": "lRo438mBUqMT"
      },
      "source": [
        "Do things look right? I.e. it seems like the instructor can keep her job!"
      ]
    },
    {
      "cell_type": "code",
      "metadata": {
        "colab": {
          "base_uri": "https://localhost:8080/",
          "height": 282
        },
        "id": "J2fg_68nUzju",
        "outputId": "c96baa7f-67d1-4615-dd39-0a69b0aa3374"
      },
      "source": [
        "# scatter plot\n",
        "plt.scatter(x, y,color='red')\n",
        "b = model.params\n",
        "plt.plot(x,b*x)"
      ],
      "execution_count": 5,
      "outputs": [
        {
          "output_type": "execute_result",
          "data": {
            "text/plain": [
              "[<matplotlib.lines.Line2D at 0x7fa3dccee950>]"
            ]
          },
          "metadata": {},
          "execution_count": 5
        },
        {
          "output_type": "display_data",
          "data": {
            "image/png": "[encoded data removed]",
            "text/plain": [
              "<Figure size 432x288 with 1 Axes>"
            ]
          },
          "metadata": {
            "needs_background": "light"
          }
        }
      ]
    },
    {
      "cell_type": "markdown",
      "metadata": {
        "id": "w__xJdDcVNuc"
      },
      "source": [
        "In fact, in Python, you have to hand-craft your ``design matrix'', meaning that you have to add in the slop!"
      ]
    },
    {
      "cell_type": "code",
      "metadata": {
        "id": "l4GfWLjodmV9",
        "colab": {
          "base_uri": "https://localhost:8080/"
        },
        "outputId": "55612417-29df-4ba1-df48-a3e579338cf5"
      },
      "source": [
        "x2 = statsmodels.tools.tools.add_constant(x)\n",
        "model = sm.OLS(y, x2).fit() \n",
        "print(model.summary())"
      ],
      "execution_count": 6,
      "outputs": [
        {
          "output_type": "stream",
          "name": "stdout",
          "text": [
            "                            OLS Regression Results                            \n",
            "==============================================================================\n",
            "Dep. Variable:                      y   R-squared:                       0.777\n",
            "Model:                            OLS   Adj. R-squared:                  0.733\n",
            "Method:                 Least Squares   F-statistic:                     17.44\n",
            "Date:                Wed, 06 Oct 2021   Prob (F-statistic):            0.00868\n",
            "Time:                        20:36:51   Log-Likelihood:                -26.823\n",
            "No. Observations:                   7   AIC:                             57.65\n",
            "Df Residuals:                       5   BIC:                             57.54\n",
            "Df Model:                           1                                         \n",
            "Covariance Type:            nonrobust                                         \n",
            "==============================================================================\n",
            "                 coef    std err          t      P>|t|      [0.025      0.975]\n",
            "------------------------------------------------------------------------------\n",
            "const        109.7143     11.167      9.825      0.000      81.010     138.419\n",
            "x1           -10.4286      2.497     -4.177      0.009     -16.847      -4.010\n",
            "==============================================================================\n",
            "Omnibus:                          nan   Durbin-Watson:                   1.504\n",
            "Prob(Omnibus):                    nan   Jarque-Bera (JB):                0.388\n",
            "Skew:                           0.544   Prob(JB):                        0.824\n",
            "Kurtosis:                       2.619   Cond. No.                         10.4\n",
            "==============================================================================\n",
            "\n",
            "Warnings:\n",
            "[1] Standard Errors assume that the covariance matrix of the errors is correctly specified.\n"
          ]
        },
        {
          "output_type": "stream",
          "name": "stderr",
          "text": [
            "/usr/local/lib/python3.7/dist-packages/statsmodels/stats/stattools.py:71: ValueWarning: omni_normtest is not valid with less than 8 observations; 7 samples were given.\n",
            "  \"samples were given.\" % int(n), ValueWarning)\n"
          ]
        }
      ]
    },
    {
      "cell_type": "markdown",
      "metadata": {
        "id": "CeRRDB5RVXCV"
      },
      "source": [
        "Check again this time!"
      ]
    },
    {
      "cell_type": "code",
      "metadata": {
        "colab": {
          "base_uri": "https://localhost:8080/",
          "height": 282
        },
        "id": "UAhcTnoOVq1n",
        "outputId": "b084fb16-0f0b-4fcd-a51e-3ac5653f44a7"
      },
      "source": [
        "plt.scatter(x, y,color='red')\n",
        "[b0,b1] = model.params\n",
        "yhat = b0+x*b1\n",
        "plt.plot(x,yhat)"
      ],
      "execution_count": 7,
      "outputs": [
        {
          "output_type": "execute_result",
          "data": {
            "text/plain": [
              "[<matplotlib.lines.Line2D at 0x7fa3dcc510d0>]"
            ]
          },
          "metadata": {},
          "execution_count": 7
        },
        {
          "output_type": "display_data",
          "data": {
            "image/png": "[encoded data removed]",
            "text/plain": [
              "<Figure size 432x288 with 1 Axes>"
            ]
          },
          "metadata": {
            "needs_background": "light"
          }
        }
      ]
    },
    {
      "cell_type": "markdown",
      "metadata": {
        "id": "uHPwzWGjW6wh"
      },
      "source": [
        "Now, what is the expected days for your instructor to have 0 students?"
      ]
    },
    {
      "cell_type": "code",
      "metadata": {
        "id": "eUc_PpXRvsww",
        "colab": {
          "base_uri": "https://localhost:8080/"
        },
        "outputId": "9eae4868-ad11-4081-98fb-e93390dded7f"
      },
      "source": [
        "b0/-b1"
      ],
      "execution_count": 8,
      "outputs": [
        {
          "output_type": "execute_result",
          "data": {
            "text/plain": [
              "10.52054794520548"
            ]
          },
          "metadata": {},
          "execution_count": 8
        }
      ]
    },
    {
      "cell_type": "markdown",
      "metadata": {
        "id": "1jjvoK2zvfX4"
      },
      "source": [
        "What is the expectation of the number of students on the 8th day? \n",
        "Can you make a prediction? What about a 95% confidence interval?"
      ]
    },
    {
      "cell_type": "code",
      "metadata": {
        "id": "64v6_CIgvoa1",
        "colab": {
          "base_uri": "https://localhost:8080/"
        },
        "outputId": "bae2736b-0ec6-45a5-9068-01551af07f73"
      },
      "source": [
        "yhat = model.predict((1,8))\n",
        "print(yhat)"
      ],
      "execution_count": 9,
      "outputs": [
        {
          "output_type": "stream",
          "name": "stdout",
          "text": [
            "[26.28571429]\n"
          ]
        }
      ]
    },
    {
      "cell_type": "code",
      "metadata": {
        "colab": {
          "base_uri": "https://localhost:8080/",
          "height": 80
        },
        "id": "Qcva-7bc04kG",
        "outputId": "9692408c-d39a-4a99-e334-c4feb45e5df7"
      },
      "source": [
        "yhat = model.get_prediction((1,8))\n",
        "yhat.summary_frame(alpha=0.05)"
      ],
      "execution_count": 10,
      "outputs": [
        {
          "output_type": "execute_result",
          "data": {
            "text/html": [
              "<div>\n",
              "<style scoped>\n",
              "    .dataframe tbody tr th:only-of-type {\n",
              "        vertical-align: middle;\n",
              "    }\n",
              "\n",
              "    .dataframe tbody tr th {\n",
              "        vertical-align: top;\n",
              "    }\n",
              "\n",
              "    .dataframe thead th {\n",
              "        text-align: right;\n",
              "    }\n",
              "</style>\n",
              "<table border=\"1\" class=\"dataframe\">\n",
              "  <thead>\n",
              "    <tr style=\"text-align: right;\">\n",
              "      <th></th>\n",
              "      <th>mean</th>\n",
              "      <th>mean_se</th>\n",
              "      <th>mean_ci_lower</th>\n",
              "      <th>mean_ci_upper</th>\n",
              "      <th>obs_ci_lower</th>\n",
              "      <th>obs_ci_upper</th>\n",
              "    </tr>\n",
              "  </thead>\n",
              "  <tbody>\n",
              "    <tr>\n",
              "      <th>0</th>\n",
              "      <td>26.285714</td>\n",
              "      <td>11.166641</td>\n",
              "      <td>-2.419051</td>\n",
              "      <td>54.99048</td>\n",
              "      <td>-18.183517</td>\n",
              "      <td>70.754945</td>\n",
              "    </tr>\n",
              "  </tbody>\n",
              "</table>\n",
              "</div>"
            ],
            "text/plain": [
              "        mean    mean_se  ...  obs_ci_lower  obs_ci_upper\n",
              "0  26.285714  11.166641  ...    -18.183517     70.754945\n",
              "\n",
              "[1 rows x 6 columns]"
            ]
          },
          "metadata": {},
          "execution_count": 10
        }
      ]
    },
    {
      "cell_type": "markdown",
      "metadata": {
        "id": "mzA-eT6UXS75"
      },
      "source": [
        "In order to argue with the secretary to keep her job, help your instructor to find reasons to keep her in the department. "
      ]
    },
    {
      "cell_type": "markdown",
      "metadata": {
        "id": "Yxc00E_IZ6k2"
      },
      "source": [
        "About $R^2$: the fraction of variability explained by the regression if the underlying model assumption is true.\n",
        "\n",
        "$$\n",
        "R^2 = \\frac{SS_{\\text{reg}}}{SS_{\\text{total}}}= 1-\\frac{RSS}{SS_{\\text{total}}}.\n",
        "$$\n",
        "\n",
        "$R^2\\in[0,1]$:   $\\widehat{\\beta}_1=0$ iff $R^2=0$; $e =0$ iff $R^2=1$.\n",
        "\n",
        "\n"
      ]
    },
    {
      "cell_type": "markdown",
      "metadata": {
        "id": "HXOptmZHE1rn"
      },
      "source": [
        "Adjusted $R^2$: the fraction of variability explained by the regression if the underlying model assumption is true.\n",
        "\n",
        "$$\n",
        "R^2_{adj} =  1-\\frac{RSS/(n-p)}{SS_{\\text{total}}/(n-1)} = 1-\\frac{RSS}{SS_{\\text{total}}} \\frac{n-1}{n-p} = 1-(1-R^2)\\frac{n-1}{n-p} <R^2 .\n",
        "$$\n"
      ]
    },
    {
      "cell_type": "markdown",
      "metadata": {
        "id": "fZfxP7nTmJEC"
      },
      "source": [
        "Relation of $R^2$ and $F$ statistics\n",
        "\n",
        "Notice that \n",
        "$$\n",
        "F = \\frac{SS_{reg}/1}{RSS/(n-2)} = (n-2) \\left(\\frac{SS_{total}}{RSS} - 1\\right) = \\frac{(n-2)R^2}{1-R^2}\n",
        "$$"
      ]
    },
    {
      "cell_type": "code",
      "metadata": {
        "id": "fJwZ1DriDTMs",
        "colab": {
          "base_uri": "https://localhost:8080/"
        },
        "outputId": "335740d5-5c0a-4a70-fb3d-f9abc607cd91"
      },
      "source": [
        "model.fvalue - (7-2)*model.rsquared/(1- model.rsquared)"
      ],
      "execution_count": 11,
      "outputs": [
        {
          "output_type": "execute_result",
          "data": {
            "text/plain": [
              "-3.552713678800501e-15"
            ]
          },
          "metadata": {},
          "execution_count": 11
        }
      ]
    },
    {
      "cell_type": "markdown",
      "metadata": {
        "id": "K3-2q8jiPpIh"
      },
      "source": [
        "What about the relationship between Wald $T$ statistics and $F$ statistics?\n",
        "\n",
        "They are the **same**!\n",
        "\n",
        "Recall that\n",
        "$$\n",
        "F \n",
        "= \\frac{SS_{reg}/1}{RSS/(n-2)} \n",
        "= \\frac{\\|\\widehat\\beta_0 - x\\widehat\\beta_1 - \\widehat\\beta_0 + \\bar{x}\\widehat\\beta_1\\mathbb{1}_n\\|^2}{RSS/(n-2)}\n",
        "= \\frac{\\widehat{\\beta}_1^2 \\|x - \\bar{x}\\mathbb{1}_n\\|^2 }{R/(n-2)}\n",
        " = \\frac{\\widehat{\\beta}_1^2}{se({\\widehat\\beta_1})^2}\n",
        " =T^2.\n",
        "$$\n"
      ]
    },
    {
      "cell_type": "code",
      "metadata": {
        "id": "hk779H5oPxr9",
        "colab": {
          "base_uri": "https://localhost:8080/"
        },
        "outputId": "b65a4de1-48ac-4f21-c4e7-d781829d5554"
      },
      "source": [
        "model.fvalue - model.tvalues[1]**2"
      ],
      "execution_count": 12,
      "outputs": [
        {
          "output_type": "execute_result",
          "data": {
            "text/plain": [
              "7.105427357601002e-15"
            ]
          },
          "metadata": {},
          "execution_count": 12
        }
      ]
    }
  ]
}